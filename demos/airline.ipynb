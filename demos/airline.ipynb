{
 "cells": [
  {
   "cell_type": "markdown",
   "metadata": {},
   "source": [
    "# Imports\n",
    "\n",
    "This section imports all necessary libraries and modules, including PyTorch, NumPy, and a local module bayesipy, which appears to handle Bayesian inference methods. Ensure all dependencies are installed."
   ]
  },
  {
   "cell_type": "code",
   "execution_count": 1,
   "metadata": {},
   "outputs": [
    {
     "name": "stderr",
     "output_type": "stream",
     "text": [
      "c:\\Users\\Ludvins\\Documents\\BayesiPy\\.venv\\lib\\site-packages\\tqdm\\auto.py:21: TqdmWarning: IProgress not found. Please update jupyter and ipywidgets. See https://ipywidgets.readthedocs.io/en/stable/user_install.html\n",
      "  from .autonotebook import tqdm as notebook_tqdm\n"
     ]
    }
   ],
   "source": [
    "# Imports and setup for automatic reloading of modules\n",
    "%load_ext autoreload\n",
    "%autoreload 2\n",
    "\n",
    "# Importing necessary libraries\n",
    "import numpy as np\n",
    "import torch\n",
    "from torch.utils.data import DataLoader\n",
    "import sys\n",
    "from time import process_time as timer\n",
    "import matplotlib.pyplot as plt\n",
    "from torch import optim\n",
    "import copy\n",
    "\n",
    "# Adjusting system path for local imports\n",
    "sys.path.append(\"..\")\n",
    "sys.path.append(\".\")\n",
    "\n",
    "# Importing custom modules from bayesipy\n",
    "from bayesipy.utils.datasets import Airline_Dataset\n",
    "from bayesipy.laplace import TestLaplace"
   ]
  },
  {
   "cell_type": "markdown",
   "metadata": {},
   "source": [
    "# Experimental settings"
   ]
  },
  {
   "cell_type": "markdown",
   "metadata": {},
   "source": [
    "To ensure reproducibility, a random seed is set. Then, a synthetic dataset is loaded and split into training and test sets, and data loaders are created to handle batched data processing."
   ]
  },
  {
   "cell_type": "code",
   "execution_count": 2,
   "metadata": {},
   "outputs": [],
   "source": [
    "# Setting reproducibility\n",
    "from bayesipy.utils import assert_reproducibility\n",
    "\n",
    "# Set seed to ensure consistent results across runs\n",
    "assert_reproducibility(1234)"
   ]
  },
  {
   "cell_type": "markdown",
   "metadata": {},
   "source": [
    "Load Dataset and desired split."
   ]
  },
  {
   "cell_type": "code",
   "execution_count": 3,
   "metadata": {},
   "outputs": [
    {
     "name": "stdout",
     "output_type": "stream",
     "text": [
      "Number of samples:  600000\n",
      "Input dimension:  (8,)\n",
      "Label dimension:  1\n"
     ]
    }
   ],
   "source": [
    "# Load synthetic dataset and split into train/test sets\n",
    "dataset = Airline_Dataset()\n",
    "train_dataset, test_dataset = dataset.train_test_splits()"
   ]
  },
  {
   "cell_type": "markdown",
   "metadata": {},
   "source": [
    "Create Data loaders for training and test partitions."
   ]
  },
  {
   "cell_type": "code",
   "execution_count": 4,
   "metadata": {},
   "outputs": [],
   "source": [
    "# Define batch size and create DataLoaders for efficient data handling\n",
    "batch_size = 100\n",
    "train_loader = DataLoader(train_dataset, batch_size=batch_size, shuffle=True)\n",
    "test_loader = DataLoader(test_dataset, batch_size=batch_size)"
   ]
  },
  {
   "cell_type": "code",
   "execution_count": null,
   "metadata": {},
   "outputs": [],
   "source": []
  },
  {
   "cell_type": "markdown",
   "metadata": {},
   "source": [
    "# Pretrained MAP solution"
   ]
  },
  {
   "cell_type": "markdown",
   "metadata": {},
   "source": [
    "In this section, a neural network is initialized and trained as a Maximum a Posteriori (MAP) solution. The network has two hidden layers with Tanh activations and is optimized using the Adam optimizer. After training, the best noise variance is selected by maximizing the log-likelihood on the training data."
   ]
  },
  {
   "cell_type": "code",
   "execution_count": 5,
   "metadata": {},
   "outputs": [],
   "source": [
    "from bayesipy.utils.pretrained_models import Airline_MLP"
   ]
  },
  {
   "cell_type": "code",
   "execution_count": 6,
   "metadata": {},
   "outputs": [],
   "source": [
    "# Initialize neural network for MAP solution with two hidden layers\n",
    "f = Airline_MLP().to(torch.float64)  # Use double precision"
   ]
  },
  {
   "cell_type": "code",
   "execution_count": 7,
   "metadata": {},
   "outputs": [
    {
     "data": {
      "text/plain": [
       "Sequential(\n",
       "  (0): Linear(in_features=8, out_features=200, bias=True)\n",
       "  (1): Tanh()\n",
       "  (2): Linear(in_features=200, out_features=200, bias=True)\n",
       "  (3): Tanh()\n",
       "  (4): Linear(in_features=200, out_features=200, bias=True)\n",
       "  (5): Tanh()\n",
       "  (6): Linear(in_features=200, out_features=1, bias=True)\n",
       ")"
      ]
     },
     "execution_count": 7,
     "metadata": {},
     "output_type": "execute_result"
    }
   ],
   "source": [
    "f"
   ]
  },
  {
   "cell_type": "markdown",
   "metadata": {},
   "source": [
    "# Laplace Approximation (LLA)\n",
    "\n",
    "In this part, the Laplace approximation method is applied to approximate the posterior over the model parameters. This approach is computationally efficient and provides Gaussian approximations around a MAP solution."
   ]
  },
  {
   "cell_type": "code",
   "execution_count": 8,
   "metadata": {},
   "outputs": [],
   "source": [
    "import torch.nn as nn\n",
    "\n",
    "\n",
    "class CustomModel(nn.Module):\n",
    "    def __init__(self, input_dim, secondary_network):\n",
    "        super(CustomModel, self).__init__()\n",
    "        self.secondary_network = secondary_network\n",
    "        self.fc1 = nn.Linear(input_dim, 200)\n",
    "        self.tanh1 = nn.Tanh()\n",
    "        self.fc3 = nn.Linear(200, 100)\n",
    "\n",
    "        for param in self.secondary_network.parameters():\n",
    "            param.requires_grad = False\n",
    "\n",
    "        # Define a scalar parameter\n",
    "\n",
    "    def forward(self, x):\n",
    "        with torch.no_grad():\n",
    "            secondary_output = self.secondary_network(x)\n",
    "\n",
    "        x = self.fc1(x)\n",
    "        x = self.tanh1(x)\n",
    "        x = x + secondary_output\n",
    "\n",
    "        x = self.fc3(x)\n",
    "        return x"
   ]
  },
  {
   "cell_type": "code",
   "execution_count": 9,
   "metadata": {},
   "outputs": [],
   "source": [
    "device = torch.device(\"cuda\" if torch.cuda.is_available() else \"cpu\")"
   ]
  },
  {
   "cell_type": "code",
   "execution_count": 10,
   "metadata": {},
   "outputs": [],
   "source": [
    "# Initialize Laplace Approximation (LLA) model\n",
    "lla = TestLaplace(\n",
    "    model=copy.deepcopy(f).to(device).to(torch.float64),  # Copy of MAP-trained model\n",
    "    model2=CustomModel(8, f[:-1]).to(device).to(torch.float64),\n",
    "    likelihood=\"regression\",  # Set for regression\n",
    "    y_mean=dataset.y_mean,  # Mean of training labels\n",
    "    y_std=dataset.y_std,  # Standard deviation of training labels\n",
    ")"
   ]
  },
  {
   "cell_type": "code",
   "execution_count": null,
   "metadata": {},
   "outputs": [],
   "source": [
    "min = np.min(train_dataset[:][0], axis=0)\n",
    "max = np.max(train_dataset[:][0], axis=0)"
   ]
  },
  {
   "cell_type": "code",
   "execution_count": null,
   "metadata": {},
   "outputs": [],
   "source": [
    "class UniformMultidimensionalDataset(torch.utils.data.Dataset):\n",
    "    def __init__(self, size, low, high):\n",
    "        self.size = size\n",
    "        self.low = low\n",
    "        self.high = high\n",
    "\n",
    "    def __len__(self):\n",
    "        return self.size\n",
    "\n",
    "    def __getitem__(self, idx):\n",
    "        sample = np.random.uniform(self.low, self.high)\n",
    "        return torch.tensor(sample, dtype=torch.float64), torch.tensor(\n",
    "            [1], dtype=torch.float64\n",
    "        )\n",
    "\n",
    "\n",
    "# Define the size of the dataset\n",
    "multidimensional_dataset_size = 1000  # You can adjust this size as needed\n",
    "\n",
    "# Create the dataset\n",
    "uniform_multidimensional_dataset = UniformMultidimensionalDataset(\n",
    "    size=multidimensional_dataset_size, low=min, high=max\n",
    ")\n",
    "\n",
    "# Create the DataLoader\n",
    "uniform_loader = DataLoader(\n",
    "    uniform_multidimensional_dataset, batch_size=batch_size, shuffle=True\n",
    ")"
   ]
  },
  {
   "cell_type": "code",
   "execution_count": 13,
   "metadata": {},
   "outputs": [
    {
     "name": "stderr",
     "output_type": "stream",
     "text": [
      "Minimizing kernel norm: 100%|██████████| 100000/100000 [1:44:34<00:00, 15.94it/s, Loss=0.000633, Relative Frobenius Norm=0.717]\n",
      "Building approximate GGN: 100%|██████████| 6000/6000 [00:08<00:00, 748.90it/s]\n",
      "Optimizing Hyper-parameters: 100%|██████████| 100/100 [00:00<00:00, 727.65it/s]\n"
     ]
    }
   ],
   "source": [
    "# Train LLA model to compute posterior scale\n",
    "losses, losses2 = lla.fit(\n",
    "    iterations=100000,\n",
    "    train_loader=train_loader,\n",
    "    verbose=True,\n",
    "    context_points_loader=None,\n",
    "    optimize_hyper_parameters=True,\n",
    ")"
   ]
  },
  {
   "cell_type": "code",
   "execution_count": null,
   "metadata": {},
   "outputs": [
    {
     "data": {
      "image/png": "[encoded data removed]",
      "text/plain": [
       "<Figure size 640x480 with 1 Axes>"
      ]
     },
     "metadata": {},
     "output_type": "display_data"
    }
   ],
   "source": [
    "# Calculate the number of minibatches per epoch\n",
    "minibatches_per_epoch = int(len(train_dataset) / batch_size)\n",
    "\n",
    "# Calculate the average loss per epoch\n",
    "average_losses_per_epoch = [\n",
    "    np.mean(losses[i * minibatches_per_epoch : (i + 1) * minibatches_per_epoch])\n",
    "    for i in range(len(losses) // minibatches_per_epoch)\n",
    "]\n",
    "\n",
    "# Plot the averaged loss per epoch\n",
    "plt.plot(average_losses_per_epoch)\n",
    "plt.xlabel(\"Epoch\")\n",
    "plt.ylabel(\"Average Loss\")\n",
    "plt.title(\"Average Loss per Epoch\")\n",
    "plt.show()"
   ]
  },
  {
   "cell_type": "code",
   "execution_count": 15,
   "metadata": {},
   "outputs": [
    {
     "data": {
      "text/plain": [
       "[<matplotlib.lines.Line2D at 0x1f103b42800>]"
      ]
     },
     "execution_count": 15,
     "metadata": {},
     "output_type": "execute_result"
    },
    {
     "data": {
      "image/png": "[encoded data removed]",
      "text/plain": [
       "<Figure size 640x480 with 1 Axes>"
      ]
     },
     "metadata": {},
     "output_type": "display_data"
    }
   ],
   "source": [
    "plt.plot(losses2)"
   ]
  },
  {
   "cell_type": "code",
   "execution_count": 16,
   "metadata": {},
   "outputs": [],
   "source": [
    "from bayesipy.utils.metrics import Regression"
   ]
  },
  {
   "cell_type": "code",
   "execution_count": 17,
   "metadata": {},
   "outputs": [],
   "source": [
    "# Compute the negative log-likelihood (NLL) over the test set\n",
    "metrics = Regression()\n",
    "\n",
    "for data, target in test_loader:\n",
    "    f_mean, f_var = lla.predict(data.to(device))\n",
    "    f_var = torch.diag(f_var).reshape(-1, 1)\n",
    "    metrics.update(target, f_mean, f_var)\n",
    "\n",
    "d = metrics.get_dict()"
   ]
  },
  {
   "cell_type": "code",
   "execution_count": 18,
   "metadata": {},
   "outputs": [
    {
     "data": {
      "text/plain": [
       "{'RMSE': 38.90297817593631,\n",
       " 'NLL': 5.097348529451844,\n",
       " 'Q-10': 0.12768,\n",
       " 'Q-20': 0.26164,\n",
       " 'Q-30': 0.40332,\n",
       " 'Q-40': 0.53985,\n",
       " 'Q-50': 0.66371,\n",
       " 'Q-60': 0.76777,\n",
       " 'Q-70': 0.84845,\n",
       " 'Q-80': 0.90377,\n",
       " 'Q-90': 0.93302,\n",
       " 'CQM': 0.09492099999999999,\n",
       " 'CRPS': 18.31621176853736}"
      ]
     },
     "execution_count": 18,
     "metadata": {},
     "output_type": "execute_result"
    }
   ],
   "source": [
    "d"
   ]
  },
  {
   "cell_type": "code",
   "execution_count": null,
   "metadata": {},
   "outputs": [],
   "source": []
  },
  {
   "cell_type": "code",
   "execution_count": null,
   "metadata": {},
   "outputs": [],
   "source": []
  }
 ],
 "metadata": {
  "kernelspec": {
   "display_name": ".venv",
   "language": "python",
   "name": "python3"
  },
  "language_info": {
   "codemirror_mode": {
    "name": "ipython",
    "version": 3
   },
   "file_extension": ".py",
   "mimetype": "text/x-python",
   "name": "python",
   "nbconvert_exporter": "python",
   "pygments_lexer": "ipython3",
   "version": "3.10.11"
  },
  "orig_nbformat": 4
 },
 "nbformat": 4,
 "nbformat_minor": 2
}
